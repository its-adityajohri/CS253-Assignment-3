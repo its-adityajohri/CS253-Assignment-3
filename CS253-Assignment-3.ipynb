{
 "cells": [
  {
   "cell_type": "code",
   "execution_count": 1,
   "id": "b95e1831",
   "metadata": {},
   "outputs": [],
   "source": [
    "import numpy as np\n",
    "import pandas as pd\n",
    "import matplotlib.pyplot as plt\n",
    "from sklearn.preprocessing import LabelEncoder\n",
    "from sklearn.model_selection import train_test_split\n",
    "from sklearn.model_selection import GridSearchCV\n",
    "from sklearn.ensemble import RandomForestClassifier\n",
    "from sklearn.impute import SimpleImputer\n",
    "from sklearn.metrics import classification_report"
   ]
  },
  {
   "cell_type": "code",
   "execution_count": 2,
   "id": "7ff4affd",
   "metadata": {
    "scrolled": true
   },
   "outputs": [
    {
     "name": "stdout",
     "output_type": "stream",
     "text": [
      "   ID             Candidate        Constituency ∇ Party  Criminal Case  \\\n",
      "0   0            M.K. Mohan            ANNA NAGAR   DMK              4   \n",
      "1   1  Khatik Ramesh Prasad           KARERA (SC)   BJP              0   \n",
      "2   2      Dr. Mantar Gowda              MADIKERI   INC              0   \n",
      "3   3          Kundan Kumar             BEGUSARAI   BJP              0   \n",
      "4   4       Swapan Majumder  BANGAON DAKSHIN (SC)   BJP              2   \n",
      "\n",
      "  Total Assets Liabilities           state      Education  \n",
      "0   211 Crore+    2 Crore+      TAMIL NADU       8th Pass  \n",
      "1     1 Crore+           0  MADHYA PRADESH      12th Pass  \n",
      "2     7 Crore+     22 Lac+       KARNATAKA  Post Graduate  \n",
      "3     9 Crore+     24 Lac+           BIHAR  Post Graduate  \n",
      "4     2 Crore+     61 Lac+     WEST BENGAL       8th Pass  \n"
     ]
    }
   ],
   "source": [
    "training_data = pd.read_csv('data/train.csv')\n",
    "test_data = pd.read_csv('data/test.csv')\n",
    "\n",
    "print(training_data.head())"
   ]
  },
  {
   "cell_type": "code",
   "execution_count": 3,
   "id": "656cb39d",
   "metadata": {},
   "outputs": [
    {
     "name": "stdout",
     "output_type": "stream",
     "text": [
      "   ID Candidate        Constituency ∇ Party  Criminal Case  Total Assets  \\\n",
      "0   0     Mohan            ANNA NAGAR   DMK              4     211000000   \n",
      "1   1    Prasad           KARERA (SC)   BJP              0       1000000   \n",
      "2   2     Gowda              MADIKERI   INC              0       7000000   \n",
      "3   3     Kumar             BEGUSARAI   BJP              0       9000000   \n",
      "4   4  Majumder  BANGAON DAKSHIN (SC)   BJP              2       2000000   \n",
      "\n",
      "   Liabilities           state      Education  \n",
      "0      2000000      TAMIL NADU       8th Pass  \n",
      "1            0  MADHYA PRADESH      12th Pass  \n",
      "2      2200000       KARNATAKA  Post Graduate  \n",
      "3      2400000           BIHAR  Post Graduate  \n",
      "4      6100000     WEST BENGAL       8th Pass  \n"
     ]
    }
   ],
   "source": [
    "\n",
    "def financial_values_to_integers(value):\n",
    "    units = {'Hund+': 100, 'Thou+': 1000, 'Lac+': 100000, 'Crore+': 1000000}\n",
    "    if isinstance(value, str):\n",
    "        for unit, multiplier in units.items():\n",
    "            if unit in value:\n",
    "                return int(value.replace(unit, '')) * multiplier\n",
    "    return int(value)\n",
    "\n",
    "def preprocess_data(data):\n",
    "    for column in ['Total Assets', 'Liabilities']:\n",
    "        data[column] = data[column].apply(financial_values_to_integers)\n",
    "    data['Candidate'] = data['Candidate'].str.split().str[-1]\n",
    "    return data\n",
    "\n",
    "processed_training_data = preprocess_data(training_data)\n",
    "processed_test_data = preprocess_data(test_data)\n",
    "print(training_data.head())"
   ]
  },
  {
   "cell_type": "code",
   "execution_count": 4,
   "id": "ba769b73",
   "metadata": {},
   "outputs": [
    {
     "name": "stdout",
     "output_type": "stream",
     "text": [
      "['8th Pass' '12th Pass' 'Post Graduate' 'Graduate Professional' 'Graduate'\n",
      " '10th Pass' 'Others' 'Doctorate' 'Literate' '5th Pass']\n",
      "[ 0  1  2  3  4  5  6  7  8  9 10 11 12 13 14 15 16 17 18 19 20 21 22]\n",
      "[ 0  1  2  3  4  5  6  7  8  9 10 11 12 13 14 15 16 17 18 19 20 21 22 23\n",
      " 24 25 26 27]\n",
      "[   0    1    2 ... 1213 1214 1215]\n",
      "[0.000e+00 1.500e+04 1.800e+04 2.400e+04 3.000e+04 5.100e+04 7.200e+04\n",
      " 7.300e+04 1.000e+05 2.000e+05 3.000e+05 4.000e+05 5.000e+05 6.000e+05\n",
      " 8.000e+05 9.000e+05 1.000e+06 1.100e+06 1.200e+06 1.300e+06 1.400e+06\n",
      " 1.500e+06 1.600e+06 1.700e+06 1.800e+06 1.900e+06 2.000e+06 2.100e+06\n",
      " 2.200e+06 2.300e+06 2.400e+06 2.500e+06 2.600e+06 2.700e+06 2.800e+06\n",
      " 2.900e+06 3.000e+06 3.100e+06 3.200e+06 3.300e+06 3.400e+06 3.500e+06\n",
      " 3.600e+06 3.700e+06 3.800e+06 3.900e+06 4.000e+06 4.100e+06 4.200e+06\n",
      " 4.300e+06 4.400e+06 4.500e+06 4.600e+06 4.700e+06 4.900e+06 5.000e+06\n",
      " 5.100e+06 5.200e+06 5.300e+06 5.400e+06 5.500e+06 5.600e+06 5.700e+06\n",
      " 5.800e+06 5.900e+06 6.000e+06 6.100e+06 6.200e+06 6.300e+06 6.400e+06\n",
      " 6.500e+06 6.600e+06 6.700e+06 6.800e+06 7.000e+06 7.100e+06 7.200e+06\n",
      " 7.300e+06 7.400e+06 7.500e+06 7.600e+06 7.700e+06 7.800e+06 7.900e+06\n",
      " 8.000e+06 8.100e+06 8.200e+06 8.300e+06 8.400e+06 8.500e+06 8.600e+06\n",
      " 8.700e+06 8.800e+06 8.900e+06 9.000e+06 9.100e+06 9.200e+06 9.300e+06\n",
      " 9.400e+06 9.500e+06 9.600e+06 9.700e+06 9.800e+06 9.900e+06 1.000e+07\n",
      " 1.100e+07 1.200e+07 1.300e+07 1.400e+07 1.500e+07 1.600e+07 1.700e+07\n",
      " 1.800e+07 1.900e+07 2.000e+07 2.100e+07 2.200e+07 2.300e+07 2.400e+07\n",
      " 2.500e+07 2.600e+07 2.700e+07 2.800e+07 2.900e+07 3.000e+07 3.100e+07\n",
      " 3.200e+07 3.300e+07 3.400e+07 3.500e+07 3.600e+07 3.700e+07 3.800e+07\n",
      " 3.900e+07 4.000e+07 4.100e+07 4.200e+07 4.300e+07 4.400e+07 4.500e+07\n",
      " 4.600e+07 4.800e+07 4.900e+07 5.100e+07 5.200e+07 5.300e+07 5.400e+07\n",
      " 5.600e+07 5.800e+07 5.900e+07 6.100e+07 6.200e+07 6.300e+07 6.400e+07\n",
      " 6.500e+07 6.600e+07 6.700e+07 6.800e+07 6.900e+07 7.000e+07 7.100e+07\n",
      " 7.200e+07 7.400e+07 7.500e+07 7.900e+07 8.000e+07 8.100e+07 8.400e+07\n",
      " 8.900e+07 9.200e+07 1.020e+08 1.050e+08 1.060e+08 1.090e+08 1.100e+08\n",
      " 1.110e+08 1.120e+08 1.150e+08 1.220e+08 1.280e+08 1.340e+08 1.350e+08\n",
      " 1.380e+08 1.410e+08 1.590e+08 1.630e+08 1.830e+08 1.870e+08 1.890e+08\n",
      " 1.910e+08 2.110e+08 2.420e+08 2.740e+08 2.930e+08 2.960e+08 3.120e+08\n",
      " 3.130e+08 3.630e+08 5.000e+08 6.680e+08 1.156e+09 1.267e+09]\n"
     ]
    }
   ],
   "source": [
    "imputer = SimpleImputer(strategy='mean')\n",
    "processed_training_data[['Total Assets', 'Liabilities']] = imputer.fit_transform(processed_training_data[['Total Assets', 'Liabilities']])\n",
    "processed_test_data[['Total Assets', 'Liabilities']] = imputer.transform(processed_test_data[['Total Assets', 'Liabilities']])\n",
    "\n",
    "label_encoder = LabelEncoder()\n",
    "\n",
    "columns_to_encode = ['Party', 'state', 'Candidate']\n",
    "\n",
    "for column in columns_to_encode:\n",
    "    processed_training_data[column] = label_encoder.fit_transform(processed_training_data[column])\n",
    "    processed_test_data[column] = label_encoder.fit_transform(processed_test_data[column])\n",
    "\n",
    "processed_training_data.reset_index(drop=True, inplace=True)\n",
    "processed_test_data.reset_index(drop=True, inplace=True)\n",
    "\n",
    "print(processed_training_data['Education'].unique())\n",
    "print(np.unique(processed_training_data['Party']))\n",
    "print(np.unique(processed_training_data['state']))\n",
    "print(np.unique(processed_training_data['Candidate']))\n",
    "print(np.unique(processed_training_data['Total Assets']))"
   ]
  },
  {
   "cell_type": "code",
   "execution_count": 5,
   "id": "e158fd57",
   "metadata": {},
   "outputs": [
    {
     "name": "stdout",
     "output_type": "stream",
     "text": [
      "Fitting 3 folds for each of 360 candidates, totalling 1080 fits\n"
     ]
    }
   ],
   "source": [
    "model_features = ['Criminal Case', 'Total Assets', 'Liabilities', 'Party', 'state', 'Candidate']\n",
    "\n",
    "x_output = processed_test_data[model_features]\n",
    "x = processed_training_data[model_features]\n",
    "y = processed_training_data['Education']\n",
    "\n",
    "x_train, x_test, y_train, y_test = train_test_split(x, y, test_size=0.25, random_state=1)\n",
    "\n",
    "rf_classifier = RandomForestClassifier(random_state=0)\n",
    "param_grid = {\n",
    "    'bootstrap': [True],\n",
    "    'max_depth': [20,30,40,50,60,70,80, 90, 100, 110],\n",
    "    'min_samples_split': [8, 10, 12,15],\n",
    "    'n_estimators': [20,40,50,60,80,100, 200, 300, 1000]\n",
    "}\n",
    "grid_search = GridSearchCV(estimator = rf_classifier, param_grid = param_grid, cv = 3, n_jobs = -1, verbose = 2)\n",
    "\n",
    "grid_search.fit(x_train, y_train)\n",
    "best_model = grid_search.best_estimator_"
   ]
  },
  {
   "cell_type": "code",
   "execution_count": 7,
   "id": "9b743bfe",
   "metadata": {},
   "outputs": [
    {
     "name": "stdout",
     "output_type": "stream",
     "text": [
      "                       precision    recall  f1-score   support\n",
      "\n",
      "            10th Pass       0.50      0.03      0.06        63\n",
      "            12th Pass       0.23      0.13      0.17        86\n",
      "             5th Pass       1.00      0.00      0.00         1\n",
      "             8th Pass       0.00      0.00      0.00        24\n",
      "            Doctorate       1.00      0.00      0.00        14\n",
      "             Graduate       0.31      0.54      0.39       136\n",
      "Graduate Professional       0.28      0.17      0.22        86\n",
      "             Literate       1.00      0.00      0.00         3\n",
      "               Others       1.00      0.00      0.00         8\n",
      "        Post Graduate       0.18      0.32      0.23        94\n",
      "\n",
      "             accuracy                           0.26       515\n",
      "            macro avg       0.55      0.12      0.11       515\n",
      "         weighted avg       0.31      0.26      0.22       515\n",
      "\n"
     ]
    }
   ],
   "source": [
    "y_pred = best_model.predict(x_test)\n",
    "\n",
    "print(classification_report(y_test, y_pred, zero_division=1))"
   ]
  },
  {
   "cell_type": "code",
   "execution_count": 8,
   "id": "9191dc01",
   "metadata": {},
   "outputs": [],
   "source": [
    "predictions = best_model.predict(x_output)\n",
    "result = pd.DataFrame(predictions, columns=['Education'])\n",
    "result.insert(0, 'ID', range(0, len(result)))\n",
    "result.to_csv('output_final.csv', index=False)"
   ]
  },
  {
   "cell_type": "code",
   "execution_count": null,
   "id": "af1990c8",
   "metadata": {},
   "outputs": [],
   "source": []
  },
  {
   "cell_type": "code",
   "execution_count": null,
   "id": "d51e0904",
   "metadata": {},
   "outputs": [],
   "source": []
  },
  {
   "cell_type": "code",
   "execution_count": null,
   "id": "183ee73e",
   "metadata": {},
   "outputs": [],
   "source": []
  }
 ],
 "metadata": {
  "kernelspec": {
   "display_name": "Python 3 (ipykernel)",
   "language": "python",
   "name": "python3"
  },
  "language_info": {
   "codemirror_mode": {
    "name": "ipython",
    "version": 3
   },
   "file_extension": ".py",
   "mimetype": "text/x-python",
   "name": "python",
   "nbconvert_exporter": "python",
   "pygments_lexer": "ipython3",
   "version": "3.9.7"
  }
 },
 "nbformat": 4,
 "nbformat_minor": 5
}
